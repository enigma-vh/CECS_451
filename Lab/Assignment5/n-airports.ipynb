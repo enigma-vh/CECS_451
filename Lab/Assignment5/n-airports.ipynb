{
 "cells": [
  {
   "cell_type": "code",
   "execution_count": 1,
   "metadata": {},
   "outputs": [
    {
     "data": {
      "text/plain": [
       "<module 'matplotlib.pyplot' from '/Users/vanhaoon/Downloads/CECS451/Lab/Assignment5/virenv/lib/python3.7/site-packages/matplotlib/pyplot.py'>"
      ]
     },
     "execution_count": 1,
     "metadata": {},
     "output_type": "execute_result"
    },
    {
     "data": {
      "image/png": "[encoded data removed]",
      "text/plain": [
       "<Figure size 432x288 with 1 Axes>"
      ]
     },
     "metadata": {
      "needs_background": "light"
     },
     "output_type": "display_data"
    }
   ],
   "source": [
    "import random\n",
    "import numpy as np\n",
    "import math\n",
    "\n",
    "num_city = 100\n",
    "num_air = 3\n",
    "num_center = 5\n",
    "sigma = 0.1\n",
    "cities = set()\n",
    "airports = []\n",
    "\n",
    "for i in range(num_center):\n",
    "    x = random.random()\n",
    "    y = random.random()\n",
    "    xc = np.random.normal(x, sigma, num_city//num_center)\n",
    "    yc = np.random.normal(y, sigma, num_city//num_center)\n",
    "    cities = cities.union(zip(xc, yc))\n",
    "\n",
    "\n",
    "for i in range(num_air):\n",
    "    x = random.random()\n",
    "    y = random.random()\n",
    "    airports.append((x,y)) \n",
    "\n",
    "import matplotlib.pyplot as plt\n",
    "\n",
    "zip_cities = zip(*cities)\n",
    "plt.scatter(*zip_cities, marker='+',color='b', label='Cities')\n",
    "zip_airs = zip(*airports)\n",
    "plt.scatter(*zip_airs, marker='*', color='r', s=100, label='Airports')\n",
    "plt.legend()\n",
    "plt"
   ]
  },
  {
   "cell_type": "code",
   "execution_count": null,
   "metadata": {},
   "outputs": [],
   "source": []
  },
  {
   "cell_type": "code",
   "execution_count": 2,
   "metadata": {},
   "outputs": [],
   "source": [
    "def distance(airport, city):\n",
    "    return math.sqrt((airport[0] - city[0])**2 + (airport[1] - city[1])**2)\n",
    "\n",
    "def closestCities(airports, cities):\n",
    "    citySets = [[], [], []]\n",
    "    for city in cities:\n",
    "        closestAirportIndex = 0    \n",
    "        minDist = distance(airports[0], city)\n",
    "        \n",
    "        for i, airport in enumerate(airports[1:]):\n",
    "            currDist = distance(airport, city)\n",
    "            currAirportIndex = i + 1\n",
    "            if currDist < minDist:\n",
    "                closestAirportIndex = currAirportIndex\n",
    "                minDist = currDist\n",
    "                \n",
    "        citySets[closestAirportIndex].append(city)\n",
    "    return citySets "
   ]
  },
  {
   "cell_type": "code",
   "execution_count": 3,
   "metadata": {},
   "outputs": [],
   "source": [
    "def objectiveFunc(state, citySets):\n",
    "    sum = 0\n",
    "    for i in range(len(citySets)):\n",
    "        for city in citySets[i]:\n",
    "            stateIndex = i*2\n",
    "            sum += (state[stateIndex] - city[0])**2 + (state[stateIndex+1] - city[1])**2\n",
    "    return sum"
   ]
  },
  {
   "cell_type": "code",
   "execution_count": 4,
   "metadata": {},
   "outputs": [],
   "source": [
    "def calcGrad(airports, citySets):\n",
    "    grad = [] * len(airports) * 2\n",
    "    for i in range(len(airports)):\n",
    "        dfdx = 0\n",
    "        dfdy = 0\n",
    "        for city in citySets[i]:\n",
    "            dfdx += (airports[i][0] - city[0])\n",
    "            dfdy += (airports[i][1] - city[1])\n",
    "        grad.append(2 * dfdx)\n",
    "        grad.append(2 * dfdy)\n",
    "    return grad "
   ]
  },
  {
   "cell_type": "code",
   "execution_count": 5,
   "metadata": {},
   "outputs": [],
   "source": [
    "def gradDescent(airports, cities):\n",
    "    state = []\n",
    "    for pair in airports:\n",
    "        state.append(pair[0])\n",
    "        state.append(pair[1])\n",
    "    \n",
    "    delta = .0001\n",
    "    alpha = .005\n",
    "    percentChange = 1\n",
    "    \n",
    "    citySets = closestCities(airports, cities)\n",
    "  \n",
    "    objValues = []\n",
    "    objValues.append(objectiveFunc(state, citySets))\n",
    "    \n",
    "    while percentChange > delta:\n",
    "        # Compute Gradient\n",
    "        gradVector = calcGrad(airports, citySets)\n",
    "        # Move state\n",
    "        state = state - np.multiply(alpha, gradVector)\n",
    "        \n",
    "        # Get the new airports\n",
    "        newAirs = []\n",
    "        for i in range(0, len(state), 2):\n",
    "            x = state[i]\n",
    "            y = state[i+1]\n",
    "            newAirs.append((x,y))\n",
    "\n",
    "        airports = newAirs\n",
    "        \n",
    "        # Calculate new city set\n",
    "        citySets = closestCities(airports, cities)\n",
    "        \n",
    "        # Store object function value\n",
    "        objValues.append(objectiveFunc(state, citySets))\n",
    "        \n",
    "        currObjVal = objValues[-1]\n",
    "        prevObjVal = objValues[-2]\n",
    "        percentChange = abs((prevObjVal - currObjVal) / prevObjVal)\n",
    "    \n",
    "    return objValues, airports\n",
    "        \n",
    "        "
   ]
  },
  {
   "cell_type": "code",
   "execution_count": 6,
   "metadata": {},
   "outputs": [],
   "source": [
    "import matplotlib.pyplot as plt\n",
    "\n",
    "def plot(objValues):\n",
    "    plt.scatter(list(range(0,len(objValues))), objValues)"
   ]
  },
  {
   "cell_type": "code",
   "execution_count": 7,
   "metadata": {},
   "outputs": [
    {
     "data": {
      "image/png": "[encoded data removed]",
      "text/plain": [
       "<Figure size 432x288 with 1 Axes>"
      ]
     },
     "metadata": {
      "needs_background": "light"
     },
     "output_type": "display_data"
    }
   ],
   "source": [
    "objValues, newAirports = gradDescent(airports, cities)\n",
    "plot(objValues)"
   ]
  },
  {
   "cell_type": "code",
   "execution_count": 8,
   "metadata": {},
   "outputs": [
    {
     "data": {
      "text/plain": [
       "<module 'matplotlib.pyplot' from '/Users/vanhaoon/Downloads/CECS451/Lab/Assignment5/virenv/lib/python3.7/site-packages/matplotlib/pyplot.py'>"
      ]
     },
     "execution_count": 8,
     "metadata": {},
     "output_type": "execute_result"
    },
    {
     "data": {
      "image/png": "[encoded data removed]",
      "text/plain": [
       "<Figure size 432x288 with 1 Axes>"
      ]
     },
     "metadata": {
      "needs_background": "light"
     },
     "output_type": "display_data"
    }
   ],
   "source": [
    "zip_cities = zip(*cities)\n",
    "plt.scatter(*zip_cities, marker='+',color='b', label='Cities')\n",
    "zip_airs = zip(*newAirports)\n",
    "plt.scatter(*zip_airs, marker='*', color='r', s=100, label='Airports')\n",
    "plt.legend()\n",
    "plt"
   ]
  }
 ],
 "metadata": {
  "kernelspec": {
   "display_name": "virenv",
   "language": "python",
   "name": "virenv"
  },
  "language_info": {
   "codemirror_mode": {
    "name": "ipython",
    "version": 3
   },
   "file_extension": ".py",
   "mimetype": "text/x-python",
   "name": "python",
   "nbconvert_exporter": "python",
   "pygments_lexer": "ipython3",
   "version": "3.7.4"
  }
 },
 "nbformat": 4,
 "nbformat_minor": 2
}
